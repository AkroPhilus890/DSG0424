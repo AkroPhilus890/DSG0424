{
 "cells": [
  {
   "cell_type": "code",
   "execution_count": null,
   "id": "d8036c62-2d09-409c-b4c9-50a47d18599f",
   "metadata": {},
   "outputs": [],
   "source": [
    "print(\"Theophilus Akrofi\")"
   ]
  },
  {
   "cell_type": "code",
   "execution_count": 1,
   "id": "9b9d32f8-2041-4e75-b1aa-b5cdd6a45ceb",
   "metadata": {},
   "outputs": [
    {
     "data": {
      "text/plain": [
       "106"
      ]
     },
     "execution_count": 1,
     "metadata": {},
     "output_type": "execute_result"
    }
   ],
   "source": [
    "50+56"
   ]
  },
  {
   "cell_type": "code",
   "execution_count": null,
   "id": "eb1acd1e-e54f-45d3-ad68-b440fab39634",
   "metadata": {},
   "outputs": [],
   "source": [
    "python is a programming language which case sensitive.\n",
    "\n",
    "python is also an interprtetd language."
   ]
  },
  {
   "cell_type": "markdown",
   "id": "214ff629-f3de-4831-892c-12c2d1aa3c17",
   "metadata": {},
   "source": [
    "Theophilus is a rich silent guy"
   ]
  },
  {
   "cell_type": "markdown",
   "id": "d178698e-cc8b-4cbe-b194-bb9924de644e",
   "metadata": {},
   "source": [
    "to add a cell below a current cell esc +B\n",
    "\n",
    "to add a cell above a cuurent cell esc +A\n",
    "\n",
    "to execute the code shift + enter ( return ) or cxontrol + return \n",
    "\n",
    "to delete a current cell esc +D +D"
   ]
  },
  {
   "cell_type": "code",
   "execution_count": null,
   "id": "d2fb03d9-5933-4bf0-8fa2-7c9052eb8ad6",
   "metadata": {},
   "outputs": [],
   "source": []
  },
  {
   "cell_type": "code",
   "execution_count": null,
   "id": "f52a5e4e-bf23-4851-9406-252ed7d02696",
   "metadata": {},
   "outputs": [],
   "source": []
  }
 ],
 "metadata": {
  "kernelspec": {
   "display_name": "Python 3 (ipykernel)",
   "language": "python",
   "name": "python3"
  },
  "language_info": {
   "codemirror_mode": {
    "name": "ipython",
    "version": 3
   },
   "file_extension": ".py",
   "mimetype": "text/x-python",
   "name": "python",
   "nbconvert_exporter": "python",
   "pygments_lexer": "ipython3",
   "version": "3.11.7"
  }
 },
 "nbformat": 4,
 "nbformat_minor": 5
}
